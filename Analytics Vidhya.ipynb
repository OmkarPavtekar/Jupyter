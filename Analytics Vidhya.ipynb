{
 "cells": [
  {
   "cell_type": "code",
   "execution_count": 3,
   "metadata": {
    "collapsed": false
   },
   "outputs": [
    {
     "ename": "ImportError",
     "evalue": "cannot import name TimeSeries",
     "output_type": "error",
     "traceback": [
      "\u001b[0;31m---------------------------------------------------------------------------\u001b[0m",
      "\u001b[0;31mImportError\u001b[0m                               Traceback (most recent call last)",
      "\u001b[0;32m<ipython-input-3-31996d2090f3>\u001b[0m in \u001b[0;36m<module>\u001b[0;34m()\u001b[0m\n\u001b[1;32m      9\u001b[0m \u001b[1;32mfrom\u001b[0m \u001b[0mdatetime\u001b[0m \u001b[1;32mimport\u001b[0m \u001b[0mdatetime\u001b[0m\u001b[1;33m,\u001b[0m\u001b[0mtimedelta\u001b[0m\u001b[1;33m\u001b[0m\u001b[0m\n\u001b[1;32m     10\u001b[0m \u001b[1;32mfrom\u001b[0m \u001b[0mdateutil\u001b[0m \u001b[1;32mimport\u001b[0m \u001b[0mparser\u001b[0m\u001b[1;33m\u001b[0m\u001b[0m\n\u001b[0;32m---> 11\u001b[0;31m \u001b[1;32mfrom\u001b[0m \u001b[0mstatsmodels\u001b[0m\u001b[1;33m.\u001b[0m\u001b[0mtsa\u001b[0m\u001b[1;33m.\u001b[0m\u001b[0marima_model\u001b[0m \u001b[1;32mimport\u001b[0m \u001b[0mARIMA\u001b[0m\u001b[1;33m\u001b[0m\u001b[0m\n\u001b[0m\u001b[1;32m     12\u001b[0m \u001b[1;31m#from fbprophet import Prophet\u001b[0m\u001b[1;33m\u001b[0m\u001b[1;33m\u001b[0m\u001b[0m\n\u001b[1;32m     13\u001b[0m \u001b[1;32mimport\u001b[0m \u001b[0mstatsmodels\u001b[0m\u001b[1;33m\u001b[0m\u001b[0m\n",
      "\u001b[0;32mC:\\Users\\Tyson\\Anaconda2\\lib\\site-packages\\statsmodels\\tsa\\arima_model.py\u001b[0m in \u001b[0;36m<module>\u001b[0;34m()\u001b[0m\n\u001b[1;32m     20\u001b[0m from statsmodels.tools.decorators import (cache_readonly,\n\u001b[1;32m     21\u001b[0m                                           resettable_cache)\n\u001b[0;32m---> 22\u001b[0;31m \u001b[1;32mimport\u001b[0m \u001b[0mstatsmodels\u001b[0m\u001b[1;33m.\u001b[0m\u001b[0mtsa\u001b[0m\u001b[1;33m.\u001b[0m\u001b[0mbase\u001b[0m\u001b[1;33m.\u001b[0m\u001b[0mtsa_model\u001b[0m \u001b[1;32mas\u001b[0m \u001b[0mtsbase\u001b[0m\u001b[1;33m\u001b[0m\u001b[0m\n\u001b[0m\u001b[1;32m     23\u001b[0m \u001b[1;32mimport\u001b[0m \u001b[0mstatsmodels\u001b[0m\u001b[1;33m.\u001b[0m\u001b[0mbase\u001b[0m\u001b[1;33m.\u001b[0m\u001b[0mwrapper\u001b[0m \u001b[1;32mas\u001b[0m \u001b[0mwrap\u001b[0m\u001b[1;33m\u001b[0m\u001b[0m\n\u001b[1;32m     24\u001b[0m \u001b[1;32mfrom\u001b[0m \u001b[0mstatsmodels\u001b[0m\u001b[1;33m.\u001b[0m\u001b[0mregression\u001b[0m\u001b[1;33m.\u001b[0m\u001b[0mlinear_model\u001b[0m \u001b[1;32mimport\u001b[0m \u001b[0myule_walker\u001b[0m\u001b[1;33m,\u001b[0m \u001b[0mGLS\u001b[0m\u001b[1;33m\u001b[0m\u001b[0m\n",
      "\u001b[0;32mC:\\Users\\Tyson\\Anaconda2\\lib\\site-packages\\statsmodels\\tsa\\base\\tsa_model.py\u001b[0m in \u001b[0;36m<module>\u001b[0;34m()\u001b[0m\n\u001b[1;32m      1\u001b[0m \u001b[1;32mfrom\u001b[0m \u001b[0mstatsmodels\u001b[0m\u001b[1;33m.\u001b[0m\u001b[0mcompat\u001b[0m\u001b[1;33m.\u001b[0m\u001b[0mpython\u001b[0m \u001b[1;32mimport\u001b[0m \u001b[0mlrange\u001b[0m\u001b[1;33m\u001b[0m\u001b[0m\n\u001b[0;32m----> 2\u001b[0;31m \u001b[1;32mimport\u001b[0m \u001b[0mstatsmodels\u001b[0m\u001b[1;33m.\u001b[0m\u001b[0mbase\u001b[0m\u001b[1;33m.\u001b[0m\u001b[0mmodel\u001b[0m \u001b[1;32mas\u001b[0m \u001b[0mbase\u001b[0m\u001b[1;33m\u001b[0m\u001b[0m\n\u001b[0m\u001b[1;32m      3\u001b[0m \u001b[1;32mfrom\u001b[0m \u001b[0mstatsmodels\u001b[0m\u001b[1;33m.\u001b[0m\u001b[0mbase\u001b[0m \u001b[1;32mimport\u001b[0m \u001b[0mdata\u001b[0m\u001b[1;33m\u001b[0m\u001b[0m\n\u001b[1;32m      4\u001b[0m \u001b[1;32mimport\u001b[0m \u001b[0mstatsmodels\u001b[0m\u001b[1;33m.\u001b[0m\u001b[0mbase\u001b[0m\u001b[1;33m.\u001b[0m\u001b[0mwrapper\u001b[0m \u001b[1;32mas\u001b[0m \u001b[0mwrap\u001b[0m\u001b[1;33m\u001b[0m\u001b[0m\n\u001b[1;32m      5\u001b[0m \u001b[1;32mfrom\u001b[0m \u001b[0mstatsmodels\u001b[0m\u001b[1;33m.\u001b[0m\u001b[0mtsa\u001b[0m\u001b[1;33m.\u001b[0m\u001b[0mbase\u001b[0m \u001b[1;32mimport\u001b[0m \u001b[0mdatetools\u001b[0m\u001b[1;33m\u001b[0m\u001b[0m\n",
      "\u001b[0;32mC:\\Users\\Tyson\\Anaconda2\\lib\\site-packages\\statsmodels\\base\\model.py\u001b[0m in \u001b[0;36m<module>\u001b[0;34m()\u001b[0m\n\u001b[1;32m      3\u001b[0m \u001b[1;32mimport\u001b[0m \u001b[0mnumpy\u001b[0m \u001b[1;32mas\u001b[0m \u001b[0mnp\u001b[0m\u001b[1;33m\u001b[0m\u001b[0m\n\u001b[1;32m      4\u001b[0m \u001b[1;32mfrom\u001b[0m \u001b[0mscipy\u001b[0m \u001b[1;32mimport\u001b[0m \u001b[0mstats\u001b[0m\u001b[1;33m\u001b[0m\u001b[0m\n\u001b[0;32m----> 5\u001b[0;31m \u001b[1;32mfrom\u001b[0m \u001b[0mstatsmodels\u001b[0m\u001b[1;33m.\u001b[0m\u001b[0mbase\u001b[0m\u001b[1;33m.\u001b[0m\u001b[0mdata\u001b[0m \u001b[1;32mimport\u001b[0m \u001b[0mhandle_data\u001b[0m\u001b[1;33m\u001b[0m\u001b[0m\n\u001b[0m\u001b[1;32m      6\u001b[0m \u001b[1;32mfrom\u001b[0m \u001b[0mstatsmodels\u001b[0m\u001b[1;33m.\u001b[0m\u001b[0mtools\u001b[0m\u001b[1;33m.\u001b[0m\u001b[0mtools\u001b[0m \u001b[1;32mimport\u001b[0m \u001b[0mrecipr\u001b[0m\u001b[1;33m,\u001b[0m \u001b[0mnan_dot\u001b[0m\u001b[1;33m\u001b[0m\u001b[0m\n\u001b[1;32m      7\u001b[0m \u001b[1;32mfrom\u001b[0m \u001b[0mstatsmodels\u001b[0m\u001b[1;33m.\u001b[0m\u001b[0mstats\u001b[0m\u001b[1;33m.\u001b[0m\u001b[0mcontrast\u001b[0m \u001b[1;32mimport\u001b[0m \u001b[0mContrastResults\u001b[0m\u001b[1;33m,\u001b[0m \u001b[0mWaldTestResults\u001b[0m\u001b[1;33m\u001b[0m\u001b[0m\n",
      "\u001b[0;32mC:\\Users\\Tyson\\Anaconda2\\lib\\site-packages\\statsmodels\\base\\data.py\u001b[0m in \u001b[0;36m<module>\u001b[0;34m()\u001b[0m\n\u001b[1;32m      6\u001b[0m \u001b[1;32mfrom\u001b[0m \u001b[0mstatsmodels\u001b[0m\u001b[1;33m.\u001b[0m\u001b[0mcompat\u001b[0m\u001b[1;33m.\u001b[0m\u001b[0mnumpy\u001b[0m \u001b[1;32mimport\u001b[0m \u001b[0mnp_matrix_rank\u001b[0m\u001b[1;33m\u001b[0m\u001b[0m\n\u001b[1;32m      7\u001b[0m \u001b[1;32mimport\u001b[0m \u001b[0mnumpy\u001b[0m \u001b[1;32mas\u001b[0m \u001b[0mnp\u001b[0m\u001b[1;33m\u001b[0m\u001b[0m\n\u001b[0;32m----> 8\u001b[0;31m \u001b[1;32mfrom\u001b[0m \u001b[0mpandas\u001b[0m \u001b[1;32mimport\u001b[0m \u001b[0mDataFrame\u001b[0m\u001b[1;33m,\u001b[0m \u001b[0mSeries\u001b[0m\u001b[1;33m,\u001b[0m \u001b[0mTimeSeries\u001b[0m\u001b[1;33m,\u001b[0m \u001b[0misnull\u001b[0m\u001b[1;33m\u001b[0m\u001b[0m\n\u001b[0m\u001b[1;32m      9\u001b[0m from statsmodels.tools.decorators import (resettable_cache, cache_readonly,\n\u001b[1;32m     10\u001b[0m                                           cache_writable)\n",
      "\u001b[0;31mImportError\u001b[0m: cannot import name TimeSeries"
     ]
    }
   ],
   "source": [
    "import numpy as np\n",
    "import pandas as pd\n",
    "import matplotlib.pyplot as plt\n",
    "%matplotlib inline\n",
    "import os\n",
    "import datetime\n",
    "import seaborn as sns\n",
    "#import pandasql as pds\n",
    "from datetime import datetime,timedelta\n",
    "from dateutil import parser\n",
    "from statsmodels.tsa.arima_model import ARIMA\n",
    "#from fbprophet import Prophet\n",
    "import statsmodels"
   ]
  },
  {
   "cell_type": "code",
   "execution_count": 4,
   "metadata": {
    "collapsed": false
   },
   "outputs": [
    {
     "data": {
      "text/plain": [
       "'0.8.0.dev0+302c2ec'"
      ]
     },
     "execution_count": 4,
     "metadata": {},
     "output_type": "execute_result"
    }
   ],
   "source": [
    "statsmodels.__version__"
   ]
  },
  {
   "cell_type": "code",
   "execution_count": 3,
   "metadata": {
    "collapsed": false
   },
   "outputs": [
    {
     "data": {
      "text/plain": [
       "['.ipynb_checkpoints',\n",
       " 'Analytics Vidhya.ipynb',\n",
       " 'hackathon details.txt',\n",
       " 'Master.csv',\n",
       " 'sample_submission_1.zip',\n",
       " 'saple submission',\n",
       " 'Test',\n",
       " 'test_8uviCCm.zip',\n",
       " 'Train',\n",
       " 'train_OwBvO8W.zip']"
      ]
     },
     "execution_count": 3,
     "metadata": {},
     "output_type": "execute_result"
    }
   ],
   "source": [
    "os.listdir()"
   ]
  },
  {
   "cell_type": "code",
   "execution_count": 3,
   "metadata": {
    "collapsed": true
   },
   "outputs": [],
   "source": [
    "price_sales_promotion=pd.read_csv(\"Train/price_sales_promotion.csv\")\n",
    "historical_volume=pd.read_csv(\"Train/historical_volume.csv\")\n",
    "weather=pd.read_csv(\"Train/weather.csv\")\n",
    "industry_soda_sales=pd.read_csv(\"Train/industry_soda_sales.csv\")\n",
    "event_calendar=pd.read_csv(\"Train/event_calendar.csv\")\n",
    "industry_volume=pd.read_csv(\"Train/industry_volume.csv\")\n",
    "demographics=pd.read_csv(\"Train/demographics.csv\")"
   ]
  },
  {
   "cell_type": "code",
   "execution_count": 4,
   "metadata": {
    "collapsed": false
   },
   "outputs": [
    {
     "data": {
      "text/html": [
       "<div>\n",
       "<table border=\"1\" class=\"dataframe\">\n",
       "  <thead>\n",
       "    <tr style=\"text-align: right;\">\n",
       "      <th></th>\n",
       "      <th>Agency</th>\n",
       "      <th>SKU</th>\n",
       "      <th>YearMonth</th>\n",
       "      <th>Price</th>\n",
       "      <th>Sales</th>\n",
       "      <th>Promotions</th>\n",
       "    </tr>\n",
       "  </thead>\n",
       "  <tbody>\n",
       "    <tr>\n",
       "      <th>0</th>\n",
       "      <td>Agency_01</td>\n",
       "      <td>SKU_01</td>\n",
       "      <td>201301</td>\n",
       "      <td>1141.500000</td>\n",
       "      <td>1033.432731</td>\n",
       "      <td>108.067269</td>\n",
       "    </tr>\n",
       "    <tr>\n",
       "      <th>1</th>\n",
       "      <td>Agency_01</td>\n",
       "      <td>SKU_01</td>\n",
       "      <td>201302</td>\n",
       "      <td>1141.500000</td>\n",
       "      <td>1065.417195</td>\n",
       "      <td>76.082805</td>\n",
       "    </tr>\n",
       "    <tr>\n",
       "      <th>2</th>\n",
       "      <td>Agency_01</td>\n",
       "      <td>SKU_01</td>\n",
       "      <td>201303</td>\n",
       "      <td>1179.345820</td>\n",
       "      <td>1101.133633</td>\n",
       "      <td>78.212187</td>\n",
       "    </tr>\n",
       "    <tr>\n",
       "      <th>3</th>\n",
       "      <td>Agency_01</td>\n",
       "      <td>SKU_01</td>\n",
       "      <td>201304</td>\n",
       "      <td>1226.687500</td>\n",
       "      <td>1138.283357</td>\n",
       "      <td>88.404143</td>\n",
       "    </tr>\n",
       "    <tr>\n",
       "      <th>4</th>\n",
       "      <td>Agency_01</td>\n",
       "      <td>SKU_01</td>\n",
       "      <td>201305</td>\n",
       "      <td>1230.331104</td>\n",
       "      <td>1148.969634</td>\n",
       "      <td>81.361470</td>\n",
       "    </tr>\n",
       "  </tbody>\n",
       "</table>\n",
       "</div>"
      ],
      "text/plain": [
       "      Agency     SKU  YearMonth        Price        Sales  Promotions\n",
       "0  Agency_01  SKU_01     201301  1141.500000  1033.432731  108.067269\n",
       "1  Agency_01  SKU_01     201302  1141.500000  1065.417195   76.082805\n",
       "2  Agency_01  SKU_01     201303  1179.345820  1101.133633   78.212187\n",
       "3  Agency_01  SKU_01     201304  1226.687500  1138.283357   88.404143\n",
       "4  Agency_01  SKU_01     201305  1230.331104  1148.969634   81.361470"
      ]
     },
     "execution_count": 4,
     "metadata": {},
     "output_type": "execute_result"
    }
   ],
   "source": [
    "price_sales_promotion.head(5)"
   ]
  },
  {
   "cell_type": "code",
   "execution_count": 5,
   "metadata": {
    "collapsed": false
   },
   "outputs": [
    {
     "data": {
      "text/html": [
       "<div>\n",
       "<table border=\"1\" class=\"dataframe\">\n",
       "  <thead>\n",
       "    <tr style=\"text-align: right;\">\n",
       "      <th></th>\n",
       "      <th>Agency</th>\n",
       "      <th>SKU</th>\n",
       "      <th>YearMonth</th>\n",
       "      <th>Volume</th>\n",
       "    </tr>\n",
       "  </thead>\n",
       "  <tbody>\n",
       "    <tr>\n",
       "      <th>0</th>\n",
       "      <td>Agency_22</td>\n",
       "      <td>SKU_01</td>\n",
       "      <td>201301</td>\n",
       "      <td>52.2720</td>\n",
       "    </tr>\n",
       "    <tr>\n",
       "      <th>1</th>\n",
       "      <td>Agency_22</td>\n",
       "      <td>SKU_02</td>\n",
       "      <td>201301</td>\n",
       "      <td>110.7000</td>\n",
       "    </tr>\n",
       "    <tr>\n",
       "      <th>2</th>\n",
       "      <td>Agency_58</td>\n",
       "      <td>SKU_23</td>\n",
       "      <td>201301</td>\n",
       "      <td>0.0000</td>\n",
       "    </tr>\n",
       "    <tr>\n",
       "      <th>3</th>\n",
       "      <td>Agency_48</td>\n",
       "      <td>SKU_07</td>\n",
       "      <td>201301</td>\n",
       "      <td>28.3200</td>\n",
       "    </tr>\n",
       "    <tr>\n",
       "      <th>4</th>\n",
       "      <td>Agency_22</td>\n",
       "      <td>SKU_05</td>\n",
       "      <td>201301</td>\n",
       "      <td>238.5387</td>\n",
       "    </tr>\n",
       "  </tbody>\n",
       "</table>\n",
       "</div>"
      ],
      "text/plain": [
       "      Agency     SKU  YearMonth    Volume\n",
       "0  Agency_22  SKU_01     201301   52.2720\n",
       "1  Agency_22  SKU_02     201301  110.7000\n",
       "2  Agency_58  SKU_23     201301    0.0000\n",
       "3  Agency_48  SKU_07     201301   28.3200\n",
       "4  Agency_22  SKU_05     201301  238.5387"
      ]
     },
     "execution_count": 5,
     "metadata": {},
     "output_type": "execute_result"
    }
   ],
   "source": [
    "historical_volume.head(5)"
   ]
  },
  {
   "cell_type": "code",
   "execution_count": 6,
   "metadata": {
    "collapsed": false
   },
   "outputs": [
    {
     "data": {
      "text/html": [
       "<div>\n",
       "<table border=\"1\" class=\"dataframe\">\n",
       "  <thead>\n",
       "    <tr style=\"text-align: right;\">\n",
       "      <th></th>\n",
       "      <th>YearMonth</th>\n",
       "      <th>Agency</th>\n",
       "      <th>Avg_Max_Temp</th>\n",
       "    </tr>\n",
       "  </thead>\n",
       "  <tbody>\n",
       "    <tr>\n",
       "      <th>0</th>\n",
       "      <td>201301</td>\n",
       "      <td>Agency_01</td>\n",
       "      <td>17.072</td>\n",
       "    </tr>\n",
       "    <tr>\n",
       "      <th>1</th>\n",
       "      <td>201302</td>\n",
       "      <td>Agency_01</td>\n",
       "      <td>19.984</td>\n",
       "    </tr>\n",
       "    <tr>\n",
       "      <th>2</th>\n",
       "      <td>201303</td>\n",
       "      <td>Agency_01</td>\n",
       "      <td>24.600</td>\n",
       "    </tr>\n",
       "    <tr>\n",
       "      <th>3</th>\n",
       "      <td>201304</td>\n",
       "      <td>Agency_01</td>\n",
       "      <td>27.532</td>\n",
       "    </tr>\n",
       "    <tr>\n",
       "      <th>4</th>\n",
       "      <td>201305</td>\n",
       "      <td>Agency_01</td>\n",
       "      <td>29.396</td>\n",
       "    </tr>\n",
       "  </tbody>\n",
       "</table>\n",
       "</div>"
      ],
      "text/plain": [
       "   YearMonth     Agency  Avg_Max_Temp\n",
       "0     201301  Agency_01        17.072\n",
       "1     201302  Agency_01        19.984\n",
       "2     201303  Agency_01        24.600\n",
       "3     201304  Agency_01        27.532\n",
       "4     201305  Agency_01        29.396"
      ]
     },
     "execution_count": 6,
     "metadata": {},
     "output_type": "execute_result"
    }
   ],
   "source": [
    "weather.head(5)"
   ]
  },
  {
   "cell_type": "code",
   "execution_count": 9,
   "metadata": {
    "collapsed": false
   },
   "outputs": [
    {
     "data": {
      "text/html": [
       "<div>\n",
       "<table border=\"1\" class=\"dataframe\">\n",
       "  <thead>\n",
       "    <tr style=\"text-align: right;\">\n",
       "      <th></th>\n",
       "      <th>YearMonth</th>\n",
       "      <th>ED</th>\n",
       "      <th>GD</th>\n",
       "      <th>NY</th>\n",
       "      <th>CH</th>\n",
       "      <th>LD</th>\n",
       "      <th>ID</th>\n",
       "      <th>RD</th>\n",
       "      <th>RG</th>\n",
       "      <th>FIFA_U_17</th>\n",
       "      <th>FGC</th>\n",
       "      <th>BC</th>\n",
       "      <th>MF</th>\n",
       "    </tr>\n",
       "  </thead>\n",
       "  <tbody>\n",
       "    <tr>\n",
       "      <th>0</th>\n",
       "      <td>201301</td>\n",
       "      <td>0</td>\n",
       "      <td>0</td>\n",
       "      <td>1</td>\n",
       "      <td>0</td>\n",
       "      <td>0</td>\n",
       "      <td>0</td>\n",
       "      <td>0</td>\n",
       "      <td>0</td>\n",
       "      <td>0</td>\n",
       "      <td>0</td>\n",
       "      <td>0</td>\n",
       "      <td>0</td>\n",
       "    </tr>\n",
       "    <tr>\n",
       "      <th>1</th>\n",
       "      <td>201302</td>\n",
       "      <td>0</td>\n",
       "      <td>0</td>\n",
       "      <td>0</td>\n",
       "      <td>0</td>\n",
       "      <td>0</td>\n",
       "      <td>0</td>\n",
       "      <td>0</td>\n",
       "      <td>0</td>\n",
       "      <td>0</td>\n",
       "      <td>0</td>\n",
       "      <td>0</td>\n",
       "      <td>0</td>\n",
       "    </tr>\n",
       "    <tr>\n",
       "      <th>2</th>\n",
       "      <td>201303</td>\n",
       "      <td>1</td>\n",
       "      <td>1</td>\n",
       "      <td>0</td>\n",
       "      <td>0</td>\n",
       "      <td>0</td>\n",
       "      <td>0</td>\n",
       "      <td>0</td>\n",
       "      <td>0</td>\n",
       "      <td>0</td>\n",
       "      <td>0</td>\n",
       "      <td>0</td>\n",
       "      <td>1</td>\n",
       "    </tr>\n",
       "    <tr>\n",
       "      <th>3</th>\n",
       "      <td>201304</td>\n",
       "      <td>0</td>\n",
       "      <td>0</td>\n",
       "      <td>0</td>\n",
       "      <td>0</td>\n",
       "      <td>0</td>\n",
       "      <td>0</td>\n",
       "      <td>0</td>\n",
       "      <td>0</td>\n",
       "      <td>0</td>\n",
       "      <td>0</td>\n",
       "      <td>0</td>\n",
       "      <td>0</td>\n",
       "    </tr>\n",
       "    <tr>\n",
       "      <th>4</th>\n",
       "      <td>201305</td>\n",
       "      <td>0</td>\n",
       "      <td>0</td>\n",
       "      <td>0</td>\n",
       "      <td>0</td>\n",
       "      <td>1</td>\n",
       "      <td>0</td>\n",
       "      <td>0</td>\n",
       "      <td>0</td>\n",
       "      <td>0</td>\n",
       "      <td>0</td>\n",
       "      <td>0</td>\n",
       "      <td>0</td>\n",
       "    </tr>\n",
       "  </tbody>\n",
       "</table>\n",
       "</div>"
      ],
      "text/plain": [
       "   YearMonth  ED  GD  NY  CH  LD  ID  RD  RG  FIFA_U_17  FGC  BC  MF\n",
       "0     201301   0   0   1   0   0   0   0   0          0    0   0   0\n",
       "1     201302   0   0   0   0   0   0   0   0          0    0   0   0\n",
       "2     201303   1   1   0   0   0   0   0   0          0    0   0   1\n",
       "3     201304   0   0   0   0   0   0   0   0          0    0   0   0\n",
       "4     201305   0   0   0   0   1   0   0   0          0    0   0   0"
      ]
     },
     "execution_count": 9,
     "metadata": {},
     "output_type": "execute_result"
    }
   ],
   "source": [
    "event_calendar.head(5)"
   ]
  },
  {
   "cell_type": "code",
   "execution_count": 8,
   "metadata": {
    "collapsed": true
   },
   "outputs": [],
   "source": [
    "event_calendar.columns=['YearMonth','ED','GD','NY','CH','LD','ID','RD','RG','FIFA_U_17','FGC','BC','MF']"
   ]
  },
  {
   "cell_type": "code",
   "execution_count": 10,
   "metadata": {
    "collapsed": false
   },
   "outputs": [
    {
     "data": {
      "text/html": [
       "<div>\n",
       "<table border=\"1\" class=\"dataframe\">\n",
       "  <thead>\n",
       "    <tr style=\"text-align: right;\">\n",
       "      <th></th>\n",
       "      <th>Agency</th>\n",
       "      <th>Avg_Population_2017</th>\n",
       "      <th>Avg_Yearly_Household_Income_2017</th>\n",
       "    </tr>\n",
       "  </thead>\n",
       "  <tbody>\n",
       "    <tr>\n",
       "      <th>0</th>\n",
       "      <td>Agency_05</td>\n",
       "      <td>3044268</td>\n",
       "      <td>182944</td>\n",
       "    </tr>\n",
       "    <tr>\n",
       "      <th>1</th>\n",
       "      <td>Agency_02</td>\n",
       "      <td>3137874</td>\n",
       "      <td>240809</td>\n",
       "    </tr>\n",
       "    <tr>\n",
       "      <th>2</th>\n",
       "      <td>Agency_55</td>\n",
       "      <td>2025793</td>\n",
       "      <td>238553</td>\n",
       "    </tr>\n",
       "    <tr>\n",
       "      <th>3</th>\n",
       "      <td>Agency_53</td>\n",
       "      <td>1729177</td>\n",
       "      <td>111048</td>\n",
       "    </tr>\n",
       "    <tr>\n",
       "      <th>4</th>\n",
       "      <td>Agency_50</td>\n",
       "      <td>2057678</td>\n",
       "      <td>144594</td>\n",
       "    </tr>\n",
       "  </tbody>\n",
       "</table>\n",
       "</div>"
      ],
      "text/plain": [
       "      Agency  Avg_Population_2017  Avg_Yearly_Household_Income_2017\n",
       "0  Agency_05              3044268                            182944\n",
       "1  Agency_02              3137874                            240809\n",
       "2  Agency_55              2025793                            238553\n",
       "3  Agency_53              1729177                            111048\n",
       "4  Agency_50              2057678                            144594"
      ]
     },
     "execution_count": 10,
     "metadata": {},
     "output_type": "execute_result"
    }
   ],
   "source": [
    "demographics.head(5)"
   ]
  },
  {
   "cell_type": "code",
   "execution_count": 11,
   "metadata": {
    "collapsed": true
   },
   "outputs": [],
   "source": [
    "Master=pds.sqldf(\"select a.Agency, a.SKU,a.YearMonth,a.Volume,b.Avg_Max_Temp,psp.Price,psp.Sales,psp.Promotions,dm.Avg_Population_2017,dm.Avg_Yearly_Household_Income_2017,ec.ED,ec.GD,ec.NY,ec.CH,ec.LD,ec.ID,ec.RD,ec.RG,ec.FIFA_U_17,ec.FGC,ec.BC,ec.MF from historical_volume a Left join weather b on a.YearMonth=b.YearMonth and a.Agency=b.Agency LEFT JOIN price_sales_promotion psp on a.Agency=psp.Agency and a.SKU=psp.SKU and a.YearMonth=psp.YearMonth LEFT JOIN event_calendar ec on a.YearMonth=ec.YearMonth LEFT JOIN demographics dm on a.Agency=dm.Agency\")"
   ]
  },
  {
   "cell_type": "code",
   "execution_count": 12,
   "metadata": {
    "collapsed": false
   },
   "outputs": [
    {
     "data": {
      "text/html": [
       "<div>\n",
       "<table border=\"1\" class=\"dataframe\">\n",
       "  <thead>\n",
       "    <tr style=\"text-align: right;\">\n",
       "      <th></th>\n",
       "      <th>Agency</th>\n",
       "      <th>SKU</th>\n",
       "      <th>YearMonth</th>\n",
       "      <th>Volume</th>\n",
       "      <th>Avg_Max_Temp</th>\n",
       "      <th>Price</th>\n",
       "      <th>Sales</th>\n",
       "      <th>Promotions</th>\n",
       "      <th>Avg_Population_2017</th>\n",
       "      <th>Avg_Yearly_Household_Income_2017</th>\n",
       "      <th>...</th>\n",
       "      <th>NY</th>\n",
       "      <th>CH</th>\n",
       "      <th>LD</th>\n",
       "      <th>ID</th>\n",
       "      <th>RD</th>\n",
       "      <th>RG</th>\n",
       "      <th>FIFA_U_17</th>\n",
       "      <th>FGC</th>\n",
       "      <th>BC</th>\n",
       "      <th>MF</th>\n",
       "    </tr>\n",
       "  </thead>\n",
       "  <tbody>\n",
       "    <tr>\n",
       "      <th>0</th>\n",
       "      <td>Agency_22</td>\n",
       "      <td>SKU_01</td>\n",
       "      <td>201301</td>\n",
       "      <td>52.2720</td>\n",
       "      <td>25.845238</td>\n",
       "      <td>1168.903668</td>\n",
       "      <td>1069.166193</td>\n",
       "      <td>99.737475</td>\n",
       "      <td>48151</td>\n",
       "      <td>132110</td>\n",
       "      <td>...</td>\n",
       "      <td>1</td>\n",
       "      <td>0</td>\n",
       "      <td>0</td>\n",
       "      <td>0</td>\n",
       "      <td>0</td>\n",
       "      <td>0</td>\n",
       "      <td>0</td>\n",
       "      <td>0</td>\n",
       "      <td>0</td>\n",
       "      <td>0</td>\n",
       "    </tr>\n",
       "    <tr>\n",
       "      <th>1</th>\n",
       "      <td>Agency_22</td>\n",
       "      <td>SKU_02</td>\n",
       "      <td>201301</td>\n",
       "      <td>110.7000</td>\n",
       "      <td>25.845238</td>\n",
       "      <td>1167.000000</td>\n",
       "      <td>1067.257500</td>\n",
       "      <td>99.742500</td>\n",
       "      <td>48151</td>\n",
       "      <td>132110</td>\n",
       "      <td>...</td>\n",
       "      <td>1</td>\n",
       "      <td>0</td>\n",
       "      <td>0</td>\n",
       "      <td>0</td>\n",
       "      <td>0</td>\n",
       "      <td>0</td>\n",
       "      <td>0</td>\n",
       "      <td>0</td>\n",
       "      <td>0</td>\n",
       "      <td>0</td>\n",
       "    </tr>\n",
       "    <tr>\n",
       "      <th>2</th>\n",
       "      <td>Agency_58</td>\n",
       "      <td>SKU_23</td>\n",
       "      <td>201301</td>\n",
       "      <td>0.0000</td>\n",
       "      <td>22.219737</td>\n",
       "      <td>0.000000</td>\n",
       "      <td>0.000000</td>\n",
       "      <td>0.000000</td>\n",
       "      <td>1620969</td>\n",
       "      <td>105857</td>\n",
       "      <td>...</td>\n",
       "      <td>1</td>\n",
       "      <td>0</td>\n",
       "      <td>0</td>\n",
       "      <td>0</td>\n",
       "      <td>0</td>\n",
       "      <td>0</td>\n",
       "      <td>0</td>\n",
       "      <td>0</td>\n",
       "      <td>0</td>\n",
       "      <td>0</td>\n",
       "    </tr>\n",
       "    <tr>\n",
       "      <th>3</th>\n",
       "      <td>Agency_48</td>\n",
       "      <td>SKU_07</td>\n",
       "      <td>201301</td>\n",
       "      <td>28.3200</td>\n",
       "      <td>24.052893</td>\n",
       "      <td>1143.503390</td>\n",
       "      <td>1143.503390</td>\n",
       "      <td>0.000000</td>\n",
       "      <td>1739969</td>\n",
       "      <td>210213</td>\n",
       "      <td>...</td>\n",
       "      <td>1</td>\n",
       "      <td>0</td>\n",
       "      <td>0</td>\n",
       "      <td>0</td>\n",
       "      <td>0</td>\n",
       "      <td>0</td>\n",
       "      <td>0</td>\n",
       "      <td>0</td>\n",
       "      <td>0</td>\n",
       "      <td>0</td>\n",
       "    </tr>\n",
       "    <tr>\n",
       "      <th>4</th>\n",
       "      <td>Agency_22</td>\n",
       "      <td>SKU_05</td>\n",
       "      <td>201301</td>\n",
       "      <td>238.5387</td>\n",
       "      <td>25.845238</td>\n",
       "      <td>1310.176057</td>\n",
       "      <td>1203.875711</td>\n",
       "      <td>106.300346</td>\n",
       "      <td>48151</td>\n",
       "      <td>132110</td>\n",
       "      <td>...</td>\n",
       "      <td>1</td>\n",
       "      <td>0</td>\n",
       "      <td>0</td>\n",
       "      <td>0</td>\n",
       "      <td>0</td>\n",
       "      <td>0</td>\n",
       "      <td>0</td>\n",
       "      <td>0</td>\n",
       "      <td>0</td>\n",
       "      <td>0</td>\n",
       "    </tr>\n",
       "  </tbody>\n",
       "</table>\n",
       "<p>5 rows × 22 columns</p>\n",
       "</div>"
      ],
      "text/plain": [
       "      Agency     SKU  YearMonth    Volume  Avg_Max_Temp        Price  \\\n",
       "0  Agency_22  SKU_01     201301   52.2720     25.845238  1168.903668   \n",
       "1  Agency_22  SKU_02     201301  110.7000     25.845238  1167.000000   \n",
       "2  Agency_58  SKU_23     201301    0.0000     22.219737     0.000000   \n",
       "3  Agency_48  SKU_07     201301   28.3200     24.052893  1143.503390   \n",
       "4  Agency_22  SKU_05     201301  238.5387     25.845238  1310.176057   \n",
       "\n",
       "         Sales  Promotions  Avg_Population_2017  \\\n",
       "0  1069.166193   99.737475                48151   \n",
       "1  1067.257500   99.742500                48151   \n",
       "2     0.000000    0.000000              1620969   \n",
       "3  1143.503390    0.000000              1739969   \n",
       "4  1203.875711  106.300346                48151   \n",
       "\n",
       "   Avg_Yearly_Household_Income_2017 ...  NY  CH  LD  ID  RD  RG  FIFA_U_17  \\\n",
       "0                            132110 ...   1   0   0   0   0   0          0   \n",
       "1                            132110 ...   1   0   0   0   0   0          0   \n",
       "2                            105857 ...   1   0   0   0   0   0          0   \n",
       "3                            210213 ...   1   0   0   0   0   0          0   \n",
       "4                            132110 ...   1   0   0   0   0   0          0   \n",
       "\n",
       "   FGC  BC  MF  \n",
       "0    0   0   0  \n",
       "1    0   0   0  \n",
       "2    0   0   0  \n",
       "3    0   0   0  \n",
       "4    0   0   0  \n",
       "\n",
       "[5 rows x 22 columns]"
      ]
     },
     "execution_count": 12,
     "metadata": {},
     "output_type": "execute_result"
    }
   ],
   "source": [
    "Master.head(5)"
   ]
  },
  {
   "cell_type": "code",
   "execution_count": 16,
   "metadata": {
    "collapsed": true
   },
   "outputs": [],
   "source": [
    "Master.to_csv(\"Master.csv\",index=0)"
   ]
  },
  {
   "cell_type": "code",
   "execution_count": 2,
   "metadata": {
    "collapsed": true
   },
   "outputs": [],
   "source": [
    "Data=pd.read_csv(\"Master.csv\")"
   ]
  },
  {
   "cell_type": "code",
   "execution_count": 3,
   "metadata": {
    "collapsed": true
   },
   "outputs": [],
   "source": [
    "Dataset=Data"
   ]
  },
  {
   "cell_type": "code",
   "execution_count": 4,
   "metadata": {
    "collapsed": true
   },
   "outputs": [],
   "source": [
    "Dataset['YearMonth']=[str(i)+'01' for i in list(Dataset['YearMonth'])]"
   ]
  },
  {
   "cell_type": "code",
   "execution_count": 5,
   "metadata": {
    "collapsed": true
   },
   "outputs": [],
   "source": [
    "Data['YearMonth']=pd.to_datetime(Data['YearMonth'])"
   ]
  },
  {
   "cell_type": "code",
   "execution_count": 6,
   "metadata": {
    "collapsed": true
   },
   "outputs": [],
   "source": [
    "Data=Data.rename(columns = {'YearMonth':'Start_Date'})"
   ]
  },
  {
   "cell_type": "code",
   "execution_count": 7,
   "metadata": {
    "collapsed": false
   },
   "outputs": [
    {
     "data": {
      "text/html": [
       "<div>\n",
       "<style scoped>\n",
       "    .dataframe tbody tr th:only-of-type {\n",
       "        vertical-align: middle;\n",
       "    }\n",
       "\n",
       "    .dataframe tbody tr th {\n",
       "        vertical-align: top;\n",
       "    }\n",
       "\n",
       "    .dataframe thead th {\n",
       "        text-align: right;\n",
       "    }\n",
       "</style>\n",
       "<table border=\"1\" class=\"dataframe\">\n",
       "  <thead>\n",
       "    <tr style=\"text-align: right;\">\n",
       "      <th></th>\n",
       "      <th>Agency</th>\n",
       "      <th>SKU</th>\n",
       "      <th>Start_Date</th>\n",
       "      <th>Volume</th>\n",
       "      <th>Avg_Max_Temp</th>\n",
       "      <th>Price</th>\n",
       "      <th>Sales</th>\n",
       "      <th>Promotions</th>\n",
       "      <th>Avg_Population_2017</th>\n",
       "      <th>Avg_Yearly_Household_Income_2017</th>\n",
       "      <th>...</th>\n",
       "      <th>NY</th>\n",
       "      <th>CH</th>\n",
       "      <th>LD</th>\n",
       "      <th>ID</th>\n",
       "      <th>RD</th>\n",
       "      <th>RG</th>\n",
       "      <th>FIFA_U_17</th>\n",
       "      <th>FGC</th>\n",
       "      <th>BC</th>\n",
       "      <th>MF</th>\n",
       "    </tr>\n",
       "  </thead>\n",
       "  <tbody>\n",
       "    <tr>\n",
       "      <th>0</th>\n",
       "      <td>Agency_22</td>\n",
       "      <td>SKU_01</td>\n",
       "      <td>2013-01-01</td>\n",
       "      <td>52.2720</td>\n",
       "      <td>25.845238</td>\n",
       "      <td>1168.903668</td>\n",
       "      <td>1069.166193</td>\n",
       "      <td>99.737475</td>\n",
       "      <td>48151</td>\n",
       "      <td>132110</td>\n",
       "      <td>...</td>\n",
       "      <td>1</td>\n",
       "      <td>0</td>\n",
       "      <td>0</td>\n",
       "      <td>0</td>\n",
       "      <td>0</td>\n",
       "      <td>0</td>\n",
       "      <td>0</td>\n",
       "      <td>0</td>\n",
       "      <td>0</td>\n",
       "      <td>0</td>\n",
       "    </tr>\n",
       "    <tr>\n",
       "      <th>1</th>\n",
       "      <td>Agency_22</td>\n",
       "      <td>SKU_02</td>\n",
       "      <td>2013-01-01</td>\n",
       "      <td>110.7000</td>\n",
       "      <td>25.845238</td>\n",
       "      <td>1167.000000</td>\n",
       "      <td>1067.257500</td>\n",
       "      <td>99.742500</td>\n",
       "      <td>48151</td>\n",
       "      <td>132110</td>\n",
       "      <td>...</td>\n",
       "      <td>1</td>\n",
       "      <td>0</td>\n",
       "      <td>0</td>\n",
       "      <td>0</td>\n",
       "      <td>0</td>\n",
       "      <td>0</td>\n",
       "      <td>0</td>\n",
       "      <td>0</td>\n",
       "      <td>0</td>\n",
       "      <td>0</td>\n",
       "    </tr>\n",
       "    <tr>\n",
       "      <th>2</th>\n",
       "      <td>Agency_58</td>\n",
       "      <td>SKU_23</td>\n",
       "      <td>2013-01-01</td>\n",
       "      <td>0.0000</td>\n",
       "      <td>22.219737</td>\n",
       "      <td>0.000000</td>\n",
       "      <td>0.000000</td>\n",
       "      <td>0.000000</td>\n",
       "      <td>1620969</td>\n",
       "      <td>105857</td>\n",
       "      <td>...</td>\n",
       "      <td>1</td>\n",
       "      <td>0</td>\n",
       "      <td>0</td>\n",
       "      <td>0</td>\n",
       "      <td>0</td>\n",
       "      <td>0</td>\n",
       "      <td>0</td>\n",
       "      <td>0</td>\n",
       "      <td>0</td>\n",
       "      <td>0</td>\n",
       "    </tr>\n",
       "    <tr>\n",
       "      <th>3</th>\n",
       "      <td>Agency_48</td>\n",
       "      <td>SKU_07</td>\n",
       "      <td>2013-01-01</td>\n",
       "      <td>28.3200</td>\n",
       "      <td>24.052893</td>\n",
       "      <td>1143.503390</td>\n",
       "      <td>1143.503390</td>\n",
       "      <td>0.000000</td>\n",
       "      <td>1739969</td>\n",
       "      <td>210213</td>\n",
       "      <td>...</td>\n",
       "      <td>1</td>\n",
       "      <td>0</td>\n",
       "      <td>0</td>\n",
       "      <td>0</td>\n",
       "      <td>0</td>\n",
       "      <td>0</td>\n",
       "      <td>0</td>\n",
       "      <td>0</td>\n",
       "      <td>0</td>\n",
       "      <td>0</td>\n",
       "    </tr>\n",
       "    <tr>\n",
       "      <th>4</th>\n",
       "      <td>Agency_22</td>\n",
       "      <td>SKU_05</td>\n",
       "      <td>2013-01-01</td>\n",
       "      <td>238.5387</td>\n",
       "      <td>25.845238</td>\n",
       "      <td>1310.176057</td>\n",
       "      <td>1203.875711</td>\n",
       "      <td>106.300346</td>\n",
       "      <td>48151</td>\n",
       "      <td>132110</td>\n",
       "      <td>...</td>\n",
       "      <td>1</td>\n",
       "      <td>0</td>\n",
       "      <td>0</td>\n",
       "      <td>0</td>\n",
       "      <td>0</td>\n",
       "      <td>0</td>\n",
       "      <td>0</td>\n",
       "      <td>0</td>\n",
       "      <td>0</td>\n",
       "      <td>0</td>\n",
       "    </tr>\n",
       "  </tbody>\n",
       "</table>\n",
       "<p>5 rows × 22 columns</p>\n",
       "</div>"
      ],
      "text/plain": [
       "      Agency     SKU Start_Date    Volume  Avg_Max_Temp        Price  \\\n",
       "0  Agency_22  SKU_01 2013-01-01   52.2720     25.845238  1168.903668   \n",
       "1  Agency_22  SKU_02 2013-01-01  110.7000     25.845238  1167.000000   \n",
       "2  Agency_58  SKU_23 2013-01-01    0.0000     22.219737     0.000000   \n",
       "3  Agency_48  SKU_07 2013-01-01   28.3200     24.052893  1143.503390   \n",
       "4  Agency_22  SKU_05 2013-01-01  238.5387     25.845238  1310.176057   \n",
       "\n",
       "         Sales  Promotions  Avg_Population_2017  \\\n",
       "0  1069.166193   99.737475                48151   \n",
       "1  1067.257500   99.742500                48151   \n",
       "2     0.000000    0.000000              1620969   \n",
       "3  1143.503390    0.000000              1739969   \n",
       "4  1203.875711  106.300346                48151   \n",
       "\n",
       "   Avg_Yearly_Household_Income_2017 ...  NY  CH  LD  ID  RD  RG  FIFA_U_17  \\\n",
       "0                            132110 ...   1   0   0   0   0   0          0   \n",
       "1                            132110 ...   1   0   0   0   0   0          0   \n",
       "2                            105857 ...   1   0   0   0   0   0          0   \n",
       "3                            210213 ...   1   0   0   0   0   0          0   \n",
       "4                            132110 ...   1   0   0   0   0   0          0   \n",
       "\n",
       "   FGC  BC  MF  \n",
       "0    0   0   0  \n",
       "1    0   0   0  \n",
       "2    0   0   0  \n",
       "3    0   0   0  \n",
       "4    0   0   0  \n",
       "\n",
       "[5 rows x 22 columns]"
      ]
     },
     "execution_count": 7,
     "metadata": {},
     "output_type": "execute_result"
    }
   ],
   "source": [
    "Data.head(5)"
   ]
  },
  {
   "cell_type": "code",
   "execution_count": 8,
   "metadata": {
    "collapsed": true
   },
   "outputs": [],
   "source": [
    "Data['Join_Date']=Data['Start_Date']+pd.DateOffset(months=-1)"
   ]
  },
  {
   "cell_type": "code",
   "execution_count": 16,
   "metadata": {
    "collapsed": true
   },
   "outputs": [],
   "source": [
    "Data_New=pds.sqldf('select a.Agency, a.SKU, a.Start_Date, a.Volume, a.Avg_Max_Temp, a.Price,a.Sales, a.Promotions, a.Avg_Population_2017,a.Avg_Yearly_Household_Income_2017, a.ED, a.GD, a.NY, a.CH, a.LD, a.ID,a.RD, a.RG, a.FIFA_U_17, a.FGC, a.BC, a.MF,b.Volume as Volume_Past from Data a Left join Data b on a.Agency=b.agency and a.SKU=b.SKU and a.Join_Date=b.Start_Date')"
   ]
  },
  {
   "cell_type": "code",
   "execution_count": 17,
   "metadata": {
    "collapsed": false
   },
   "outputs": [
    {
     "data": {
      "text/html": [
       "<div>\n",
       "<style scoped>\n",
       "    .dataframe tbody tr th:only-of-type {\n",
       "        vertical-align: middle;\n",
       "    }\n",
       "\n",
       "    .dataframe tbody tr th {\n",
       "        vertical-align: top;\n",
       "    }\n",
       "\n",
       "    .dataframe thead th {\n",
       "        text-align: right;\n",
       "    }\n",
       "</style>\n",
       "<table border=\"1\" class=\"dataframe\">\n",
       "  <thead>\n",
       "    <tr style=\"text-align: right;\">\n",
       "      <th></th>\n",
       "      <th>Agency</th>\n",
       "      <th>SKU</th>\n",
       "      <th>Start_Date</th>\n",
       "      <th>Volume</th>\n",
       "      <th>Avg_Max_Temp</th>\n",
       "      <th>Price</th>\n",
       "      <th>Sales</th>\n",
       "      <th>Promotions</th>\n",
       "      <th>Avg_Population_2017</th>\n",
       "      <th>Avg_Yearly_Household_Income_2017</th>\n",
       "      <th>...</th>\n",
       "      <th>CH</th>\n",
       "      <th>LD</th>\n",
       "      <th>ID</th>\n",
       "      <th>RD</th>\n",
       "      <th>RG</th>\n",
       "      <th>FIFA_U_17</th>\n",
       "      <th>FGC</th>\n",
       "      <th>BC</th>\n",
       "      <th>MF</th>\n",
       "      <th>Volume_Past</th>\n",
       "    </tr>\n",
       "  </thead>\n",
       "  <tbody>\n",
       "    <tr>\n",
       "      <th>0</th>\n",
       "      <td>Agency_22</td>\n",
       "      <td>SKU_01</td>\n",
       "      <td>2013-01-01 00:00:00.000000</td>\n",
       "      <td>52.2720</td>\n",
       "      <td>25.845238</td>\n",
       "      <td>1168.903668</td>\n",
       "      <td>1069.166193</td>\n",
       "      <td>99.737475</td>\n",
       "      <td>48151</td>\n",
       "      <td>132110</td>\n",
       "      <td>...</td>\n",
       "      <td>0</td>\n",
       "      <td>0</td>\n",
       "      <td>0</td>\n",
       "      <td>0</td>\n",
       "      <td>0</td>\n",
       "      <td>0</td>\n",
       "      <td>0</td>\n",
       "      <td>0</td>\n",
       "      <td>0</td>\n",
       "      <td>NaN</td>\n",
       "    </tr>\n",
       "    <tr>\n",
       "      <th>1</th>\n",
       "      <td>Agency_22</td>\n",
       "      <td>SKU_02</td>\n",
       "      <td>2013-01-01 00:00:00.000000</td>\n",
       "      <td>110.7000</td>\n",
       "      <td>25.845238</td>\n",
       "      <td>1167.000000</td>\n",
       "      <td>1067.257500</td>\n",
       "      <td>99.742500</td>\n",
       "      <td>48151</td>\n",
       "      <td>132110</td>\n",
       "      <td>...</td>\n",
       "      <td>0</td>\n",
       "      <td>0</td>\n",
       "      <td>0</td>\n",
       "      <td>0</td>\n",
       "      <td>0</td>\n",
       "      <td>0</td>\n",
       "      <td>0</td>\n",
       "      <td>0</td>\n",
       "      <td>0</td>\n",
       "      <td>NaN</td>\n",
       "    </tr>\n",
       "    <tr>\n",
       "      <th>2</th>\n",
       "      <td>Agency_58</td>\n",
       "      <td>SKU_23</td>\n",
       "      <td>2013-01-01 00:00:00.000000</td>\n",
       "      <td>0.0000</td>\n",
       "      <td>22.219737</td>\n",
       "      <td>0.000000</td>\n",
       "      <td>0.000000</td>\n",
       "      <td>0.000000</td>\n",
       "      <td>1620969</td>\n",
       "      <td>105857</td>\n",
       "      <td>...</td>\n",
       "      <td>0</td>\n",
       "      <td>0</td>\n",
       "      <td>0</td>\n",
       "      <td>0</td>\n",
       "      <td>0</td>\n",
       "      <td>0</td>\n",
       "      <td>0</td>\n",
       "      <td>0</td>\n",
       "      <td>0</td>\n",
       "      <td>NaN</td>\n",
       "    </tr>\n",
       "    <tr>\n",
       "      <th>3</th>\n",
       "      <td>Agency_48</td>\n",
       "      <td>SKU_07</td>\n",
       "      <td>2013-01-01 00:00:00.000000</td>\n",
       "      <td>28.3200</td>\n",
       "      <td>24.052893</td>\n",
       "      <td>1143.503390</td>\n",
       "      <td>1143.503390</td>\n",
       "      <td>0.000000</td>\n",
       "      <td>1739969</td>\n",
       "      <td>210213</td>\n",
       "      <td>...</td>\n",
       "      <td>0</td>\n",
       "      <td>0</td>\n",
       "      <td>0</td>\n",
       "      <td>0</td>\n",
       "      <td>0</td>\n",
       "      <td>0</td>\n",
       "      <td>0</td>\n",
       "      <td>0</td>\n",
       "      <td>0</td>\n",
       "      <td>NaN</td>\n",
       "    </tr>\n",
       "    <tr>\n",
       "      <th>4</th>\n",
       "      <td>Agency_22</td>\n",
       "      <td>SKU_05</td>\n",
       "      <td>2013-01-01 00:00:00.000000</td>\n",
       "      <td>238.5387</td>\n",
       "      <td>25.845238</td>\n",
       "      <td>1310.176057</td>\n",
       "      <td>1203.875711</td>\n",
       "      <td>106.300346</td>\n",
       "      <td>48151</td>\n",
       "      <td>132110</td>\n",
       "      <td>...</td>\n",
       "      <td>0</td>\n",
       "      <td>0</td>\n",
       "      <td>0</td>\n",
       "      <td>0</td>\n",
       "      <td>0</td>\n",
       "      <td>0</td>\n",
       "      <td>0</td>\n",
       "      <td>0</td>\n",
       "      <td>0</td>\n",
       "      <td>NaN</td>\n",
       "    </tr>\n",
       "  </tbody>\n",
       "</table>\n",
       "<p>5 rows × 23 columns</p>\n",
       "</div>"
      ],
      "text/plain": [
       "      Agency     SKU                  Start_Date    Volume  Avg_Max_Temp  \\\n",
       "0  Agency_22  SKU_01  2013-01-01 00:00:00.000000   52.2720     25.845238   \n",
       "1  Agency_22  SKU_02  2013-01-01 00:00:00.000000  110.7000     25.845238   \n",
       "2  Agency_58  SKU_23  2013-01-01 00:00:00.000000    0.0000     22.219737   \n",
       "3  Agency_48  SKU_07  2013-01-01 00:00:00.000000   28.3200     24.052893   \n",
       "4  Agency_22  SKU_05  2013-01-01 00:00:00.000000  238.5387     25.845238   \n",
       "\n",
       "         Price        Sales  Promotions  Avg_Population_2017  \\\n",
       "0  1168.903668  1069.166193   99.737475                48151   \n",
       "1  1167.000000  1067.257500   99.742500                48151   \n",
       "2     0.000000     0.000000    0.000000              1620969   \n",
       "3  1143.503390  1143.503390    0.000000              1739969   \n",
       "4  1310.176057  1203.875711  106.300346                48151   \n",
       "\n",
       "   Avg_Yearly_Household_Income_2017     ...       CH  LD  ID  RD  RG  \\\n",
       "0                            132110     ...        0   0   0   0   0   \n",
       "1                            132110     ...        0   0   0   0   0   \n",
       "2                            105857     ...        0   0   0   0   0   \n",
       "3                            210213     ...        0   0   0   0   0   \n",
       "4                            132110     ...        0   0   0   0   0   \n",
       "\n",
       "   FIFA_U_17  FGC  BC  MF  Volume_Past  \n",
       "0          0    0   0   0          NaN  \n",
       "1          0    0   0   0          NaN  \n",
       "2          0    0   0   0          NaN  \n",
       "3          0    0   0   0          NaN  \n",
       "4          0    0   0   0          NaN  \n",
       "\n",
       "[5 rows x 23 columns]"
      ]
     },
     "execution_count": 17,
     "metadata": {},
     "output_type": "execute_result"
    }
   ],
   "source": [
    "Data_New.head(5)"
   ]
  },
  {
   "cell_type": "code",
   "execution_count": 12,
   "metadata": {
    "collapsed": false
   },
   "outputs": [
    {
     "name": "stderr",
     "output_type": "stream",
     "text": [
      "C:\\Users\\Tyson\\Anaconda2\\envs\\py35\\lib\\site-packages\\ipykernel_launcher.py:1: UserWarning: Boolean Series key will be reindexed to match DataFrame index.\n",
      "  \"\"\"Entry point for launching an IPython kernel.\n"
     ]
    }
   ],
   "source": [
    "Df=Data_New[['Volume','Volume_Past','Start_Date']][Data_New['Agency']=='Agency_22'][Data_New['SKU']=='SKU_01']"
   ]
  },
  {
   "cell_type": "code",
   "execution_count": 13,
   "metadata": {
    "collapsed": false
   },
   "outputs": [
    {
     "data": {
      "text/html": [
       "<div>\n",
       "<style scoped>\n",
       "    .dataframe tbody tr th:only-of-type {\n",
       "        vertical-align: middle;\n",
       "    }\n",
       "\n",
       "    .dataframe tbody tr th {\n",
       "        vertical-align: top;\n",
       "    }\n",
       "\n",
       "    .dataframe thead th {\n",
       "        text-align: right;\n",
       "    }\n",
       "</style>\n",
       "<table border=\"1\" class=\"dataframe\">\n",
       "  <thead>\n",
       "    <tr style=\"text-align: right;\">\n",
       "      <th></th>\n",
       "      <th>Volume</th>\n",
       "      <th>Volume_Past</th>\n",
       "      <th>Start_Date</th>\n",
       "    </tr>\n",
       "  </thead>\n",
       "  <tbody>\n",
       "    <tr>\n",
       "      <th>0</th>\n",
       "      <td>52.272</td>\n",
       "      <td>NaN</td>\n",
       "      <td>2013-01-01 00:00:00.000000</td>\n",
       "    </tr>\n",
       "    <tr>\n",
       "      <th>7096</th>\n",
       "      <td>62.532</td>\n",
       "      <td>52.272</td>\n",
       "      <td>2013-02-01 00:00:00.000000</td>\n",
       "    </tr>\n",
       "    <tr>\n",
       "      <th>8898</th>\n",
       "      <td>74.196</td>\n",
       "      <td>62.532</td>\n",
       "      <td>2013-03-01 00:00:00.000000</td>\n",
       "    </tr>\n",
       "    <tr>\n",
       "      <th>10733</th>\n",
       "      <td>89.424</td>\n",
       "      <td>74.196</td>\n",
       "      <td>2013-04-01 00:00:00.000000</td>\n",
       "    </tr>\n",
       "    <tr>\n",
       "      <th>12472</th>\n",
       "      <td>79.164</td>\n",
       "      <td>89.424</td>\n",
       "      <td>2013-05-01 00:00:00.000000</td>\n",
       "    </tr>\n",
       "  </tbody>\n",
       "</table>\n",
       "</div>"
      ],
      "text/plain": [
       "       Volume  Volume_Past                  Start_Date\n",
       "0      52.272          NaN  2013-01-01 00:00:00.000000\n",
       "7096   62.532       52.272  2013-02-01 00:00:00.000000\n",
       "8898   74.196       62.532  2013-03-01 00:00:00.000000\n",
       "10733  89.424       74.196  2013-04-01 00:00:00.000000\n",
       "12472  79.164       89.424  2013-05-01 00:00:00.000000"
      ]
     },
     "execution_count": 13,
     "metadata": {},
     "output_type": "execute_result"
    }
   ],
   "source": [
    "Df.sort_values('Start_Date').head(5)"
   ]
  },
  {
   "cell_type": "code",
   "execution_count": 46,
   "metadata": {
    "collapsed": false
   },
   "outputs": [
    {
     "data": {
      "text/plain": [
       "<matplotlib.axes._subplots.AxesSubplot at 0x16bc0e114e0>"
      ]
     },
     "execution_count": 46,
     "metadata": {},
     "output_type": "execute_result"
    },
    {
     "data": {
      "image/png": "[encoded data removed]",
      "text/plain": [
       "<matplotlib.figure.Figure at 0x16bc0095198>"
      ]
     },
     "metadata": {},
     "output_type": "display_data"
    }
   ],
   "source": [
    "sns.tsplot(Df['Volume'])"
   ]
  },
  {
   "cell_type": "code",
   "execution_count": null,
   "metadata": {
    "collapsed": true
   },
   "outputs": [],
   "source": []
  }
 ],
 "metadata": {
  "kernelspec": {
   "display_name": "Python 2",
   "language": "python",
   "name": "python2"
  },
  "language_info": {
   "codemirror_mode": {
    "name": "ipython",
    "version": 2
   },
   "file_extension": ".py",
   "mimetype": "text/x-python",
   "name": "python",
   "nbconvert_exporter": "python",
   "pygments_lexer": "ipython2",
   "version": "2.7.13"
  }
 },
 "nbformat": 4,
 "nbformat_minor": 2
}
